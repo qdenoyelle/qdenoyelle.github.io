{
 "cells": [
  {
   "cell_type": "markdown",
   "metadata": {},
   "source": [
    "<h2>Optimisation M1 - TP2</h2>"
   ]
  },
  {
   "cell_type": "code",
   "execution_count": 1,
   "metadata": {},
   "outputs": [],
   "source": [
    "import numpy as np\n",
    "import matplotlib.pyplot as plt"
   ]
  },
  {
   "cell_type": "markdown",
   "metadata": {},
   "source": [
    "On considère la fonction quadratique suivante définie sur $[-5,5]\\times[-5,5]$ par :\n",
    "$$\n",
    "f(x) = x_0^2 + 2 x_1^2 + x_0x_1 + x_0 - x_1 + 20.\n",
    "$$"
   ]
  },
  {
   "cell_type": "markdown",
   "metadata": {},
   "source": [
    "1) Ecrire en Python la fonction $f$, son gradient ainsi que la matrice symétrique $A$ et le vecteur $b$ tels que \n",
    "$$\n",
    "f(x) = \\frac12 \\langle Ax, x\\rangle - \\langle b, x \\rangle + c.\n",
    "$$"
   ]
  },
  {
   "cell_type": "code",
   "execution_count": null,
   "metadata": {},
   "outputs": [],
   "source": []
  },
  {
   "cell_type": "markdown",
   "metadata": {},
   "source": [
    "2) Tracer les lignes de niveau de $f$ sur son domaine de définition"
   ]
  },
  {
   "cell_type": "code",
   "execution_count": null,
   "metadata": {},
   "outputs": [],
   "source": []
  },
  {
   "cell_type": "markdown",
   "metadata": {},
   "source": [
    "<h3>I) Algorithme de descente de gradient à pas optimal</h3>"
   ]
  },
  {
   "cell_type": "markdown",
   "metadata": {},
   "source": [
    "3) Ecrire une fonction $\\mbox{descente_gradient_pas_optimal}$, qui prend en argument un point de départ $x^{(0)}$, la matrice $A$, le vecteur $b$ et une tolérance $\\varepsilon$, qui représente l'algorithme de descente de gradient à pas optimal. Cette fonction renverra le point final obtenu ainsi que la liste des itérés."
   ]
  },
  {
   "cell_type": "code",
   "execution_count": null,
   "metadata": {},
   "outputs": [],
   "source": []
  },
  {
   "cell_type": "markdown",
   "metadata": {},
   "source": [
    "4) On prendra $x^{(0)}=(4,-4)$. Supperposer la trajectoire donnée par l'algorithme au graphe des lignes de niveau de $f$. Commenter la trajectoire."
   ]
  },
  {
   "cell_type": "code",
   "execution_count": 5,
   "metadata": {},
   "outputs": [],
   "source": []
  },
  {
   "cell_type": "code",
   "execution_count": null,
   "metadata": {},
   "outputs": [],
   "source": []
  },
  {
   "cell_type": "markdown",
   "metadata": {},
   "source": [
    "5) Illustrer la convergence linéaire de l'algorithme."
   ]
  },
  {
   "cell_type": "code",
   "execution_count": null,
   "metadata": {},
   "outputs": [],
   "source": []
  },
  {
   "cell_type": "code",
   "execution_count": null,
   "metadata": {},
   "outputs": [],
   "source": []
  },
  {
   "cell_type": "markdown",
   "metadata": {},
   "source": [
    "<h3>II) Algorithme de descente de gradient par rebroussement</h3>"
   ]
  },
  {
   "cell_type": "markdown",
   "metadata": {},
   "source": [
    "6) Ecrire une fonction $\\mbox{rebroussement}$ qui prend en argument un point $x$, la fonction $f$, une direction de descente $d$, le produit scalaire $\\langle \\nabla f(x), d\\rangle$, $\\alpha$ et $\\beta$, et qui représente l'algorithme de calcul d'un pas de descente par méthode de rebroussement. On veillera à évaluer le moins possible la fonction $f$."
   ]
  },
  {
   "cell_type": "code",
   "execution_count": null,
   "metadata": {},
   "outputs": [],
   "source": []
  },
  {
   "cell_type": "markdown",
   "metadata": {},
   "source": [
    "7) Ecrire une fonction $\\mbox{descente_gradient_par_rebroussement}$, qui prend en argument un point de départ $x^{(0)}$, $f$, le gradient de $f$, $\\alpha$, $\\beta$ et une tolérance $\\varepsilon$, et qui représente l'algorithme de descente de gradient par rebroussement. On veillera à évaluer le moins possible de fois le gradient de $f$."
   ]
  },
  {
   "cell_type": "code",
   "execution_count": null,
   "metadata": {},
   "outputs": [],
   "source": []
  },
  {
   "cell_type": "markdown",
   "metadata": {},
   "source": [
    "8) On prendra $x^{(0)}=(4,-4)$. Supperposer la trajectoire donnée par l'algorithme prédédent au graphe des lignes de niveau de $f$. Commenter la trajectoire. On pourra éventuellement également supperposer la trajectoire donnée par l'algorithme de descente de gradient à pas optimal."
   ]
  },
  {
   "cell_type": "code",
   "execution_count": null,
   "metadata": {},
   "outputs": [],
   "source": []
  },
  {
   "cell_type": "code",
   "execution_count": null,
   "metadata": {},
   "outputs": [],
   "source": []
  },
  {
   "cell_type": "code",
   "execution_count": null,
   "metadata": {},
   "outputs": [],
   "source": []
  },
  {
   "cell_type": "markdown",
   "metadata": {},
   "source": [
    "9) Illustrer la convergence de l'algorithme de descente de gradient par rebroussement. On supperposera avec le graphe illustrant la convergence de l'algorithme de descente de gradient à pas optimal."
   ]
  },
  {
   "cell_type": "code",
   "execution_count": null,
   "metadata": {},
   "outputs": [],
   "source": []
  },
  {
   "cell_type": "code",
   "execution_count": null,
   "metadata": {},
   "outputs": [],
   "source": []
  },
  {
   "cell_type": "code",
   "execution_count": null,
   "metadata": {},
   "outputs": [],
   "source": []
  }
 ],
 "metadata": {
  "@webio": {
   "lastCommId": null,
   "lastKernelId": null
  },
  "kernelspec": {
   "display_name": "Python 3",
   "language": "python",
   "name": "python3"
  },
  "language_info": {
   "codemirror_mode": {
    "name": "ipython",
    "version": 3
   },
   "file_extension": ".py",
   "mimetype": "text/x-python",
   "name": "python",
   "nbconvert_exporter": "python",
   "pygments_lexer": "ipython3",
   "version": "3.7.4"
  }
 },
 "nbformat": 4,
 "nbformat_minor": 2
}
