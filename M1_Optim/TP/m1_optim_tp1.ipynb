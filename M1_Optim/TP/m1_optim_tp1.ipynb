{
 "cells": [
  {
   "cell_type": "markdown",
   "metadata": {},
   "source": [
    "<h2>Optimisation M1 - TP1</h2>"
   ]
  },
  {
   "cell_type": "code",
   "execution_count": null,
   "metadata": {},
   "outputs": [],
   "source": [
    "import numpy as np\n",
    "import matplotlib.pyplot as plt\n",
    "from mpl_toolkits.mplot3d import Axes3D"
   ]
  },
  {
   "cell_type": "markdown",
   "metadata": {},
   "source": [
    "On considère la fonction quadratique suivante définie sur $[-3,3]\\times[-3,3]$ par :\n",
    "$$\n",
    "f_1(x) = x_0^2 + 2 x_1^2 + x_0x_1 + x_0 - 3x_1 + 30.\n",
    "$$"
   ]
  },
  {
   "cell_type": "markdown",
   "metadata": {},
   "source": [
    "1) Ecrire la fonction $\\verb+f1+$ représentant $f_1$ en Python."
   ]
  },
  {
   "cell_type": "code",
   "execution_count": null,
   "metadata": {},
   "outputs": [],
   "source": []
  },
  {
   "cell_type": "markdown",
   "metadata": {},
   "source": [
    "2) Comprendre et utiliser la fonction plot_fonction définie ci-dessous."
   ]
  },
  {
   "cell_type": "code",
   "execution_count": null,
   "metadata": {},
   "outputs": [],
   "source": [
    "def plot_fonction(f, dom):\n",
    "    \n",
    "    # affichage du graphe d'une fonction de R^2 dans R,\n",
    "    # de ses lignes de niveau,\n",
    "    # et valeur de son minimum sur une grille discrète.\n",
    "    # f : fonction\n",
    "    # dom : domaine de la grille\n",
    "    \n",
    "    # Definition des valeurs x1 et x2, des grilles correspondantes et evaluation de f\n",
    "    X, Y = np.linspace(dom[0], dom[1], 200), np.linspace(dom[2], dom[3], 200)\n",
    "    X, Y = np.meshgrid(X, Y)\n",
    "    Z = f([X, Y])\n",
    "    \n",
    "    # valeur et position du minimum sur la grille:\n",
    "    imin = np.unravel_index(np.argmin(Z), Z.shape)\n",
    "    Zmin = Z[imin]\n",
    "    print('valeur du minimum sur la grille : ', Zmin)\n",
    "    Xmin, Ymin = X[imin], Y[imin]\n",
    "    print('position du minimiseur : (',Xmin,',',Ymin,')')\n",
    "    \n",
    "    # Graphique 3D:\n",
    "    fig = plt.figure()\n",
    "    ax = plt.axes(projection = '3d')\n",
    "    ax.plot([Xmin, Xmin], [Ymin, Ymin], [0, Zmin], marker = 'o')\n",
    "    ax.plot_surface(X, Y, Z)\n",
    "    ax.set_title('Graphe de la fonction')\n",
    "    \n",
    "    # Graphique des lignes de niveaux\n",
    "    fig, ax = plt.subplots(figsize = (6, 6))\n",
    "    CS = ax.contour(X, Y, Z)\n",
    "    ax.clabel(CS, fontsize = 10)\n",
    "    ax.set_title('Lignes de niveau')\n",
    "    ax.set_aspect('equal', adjustable = 'box') # pour que les axes aient la même échelle"
   ]
  },
  {
   "cell_type": "code",
   "execution_count": null,
   "metadata": {},
   "outputs": [],
   "source": []
  },
  {
   "cell_type": "markdown",
   "metadata": {},
   "source": [
    "3) Donner la matrice symétrique $A$, le vecteur $b$ et la constante $c$ pour lesquelles\n",
    "$$\n",
    "f_1(x) = x_0^2 + 2 x_1^2 + x_0x_1 + x_0 - 3x_1 + 30 = \\frac{1}{2} \\langle Ax, x \\rangle - \\langle b, x \\rangle + c,\n",
    "$$\n",
    "où $x=(x_0,x_1)^T$.\n",
    "\n",
    "4) Déterminer $\\nabla f_1(x)$ pour tout $x$.\n",
    "\n",
    "5) Calculer le minimiseur $x^*$ de $f_1$.\n",
    "\n",
    "6) Ecrire la fonction $\\verb+gradf1+$ représentant $\\nabla f$ en Python."
   ]
  },
  {
   "cell_type": "code",
   "execution_count": null,
   "metadata": {},
   "outputs": [],
   "source": []
  },
  {
   "cell_type": "markdown",
   "metadata": {},
   "source": [
    "7) Ecrire une fonction $\\verb+plot+$_$\\verb+grad+$ qui prend en argmument une fonction, son gradient, son domaine de définition et son minimum, et qui trace les contours de la fonction et son champs de gradient. On pourra penser à utiliser la fonction $\\verb+plt.quiver+$."
   ]
  },
  {
   "cell_type": "code",
   "execution_count": null,
   "metadata": {},
   "outputs": [],
   "source": []
  },
  {
   "cell_type": "code",
   "execution_count": null,
   "metadata": {},
   "outputs": [],
   "source": []
  },
  {
   "cell_type": "code",
   "execution_count": null,
   "metadata": {},
   "outputs": [],
   "source": []
  },
  {
   "cell_type": "code",
   "execution_count": null,
   "metadata": {},
   "outputs": [],
   "source": []
  }
 ],
 "metadata": {
  "@webio": {
   "lastCommId": null,
   "lastKernelId": null
  },
  "kernelspec": {
   "display_name": "Python 3",
   "language": "python",
   "name": "python3"
  },
  "language_info": {
   "codemirror_mode": {
    "name": "ipython",
    "version": 3
   },
   "file_extension": ".py",
   "mimetype": "text/x-python",
   "name": "python",
   "nbconvert_exporter": "python",
   "pygments_lexer": "ipython3",
   "version": "3.7.4"
  }
 },
 "nbformat": 4,
 "nbformat_minor": 2
}
