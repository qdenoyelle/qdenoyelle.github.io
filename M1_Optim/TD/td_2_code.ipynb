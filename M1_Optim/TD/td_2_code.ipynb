{
 "cells": [
  {
   "cell_type": "code",
   "execution_count": 1,
   "metadata": {},
   "outputs": [],
   "source": [
    "import numpy as np\n",
    "import matplotlib.pyplot as plt\n",
    "# from mpl_toolkits.mplot3d import Axes3D"
   ]
  },
  {
   "cell_type": "code",
   "execution_count": 2,
   "metadata": {},
   "outputs": [],
   "source": [
    "# TD2 : exercice 2"
   ]
  },
  {
   "cell_type": "code",
   "execution_count": 3,
   "metadata": {},
   "outputs": [],
   "source": [
    "def regressionLineaire(x, y):\n",
    "    n = len(x)\n",
    "    sx, sy, sxy, sx2 = sum(x), sum(y), np.dot(x, y), np.dot(x, x)\n",
    "    alpha = (sxy - sx*sy/n)/(sx2 - sx**2/n)\n",
    "    beta = sy/n - alpha*sx/n\n",
    "    return np.array([alpha, beta])"
   ]
  },
  {
   "cell_type": "code",
   "execution_count": 4,
   "metadata": {},
   "outputs": [],
   "source": [
    "n = 100\n",
    "x = np.random.rand(n)\n",
    "y = -5 + 12*x + np.random.rand(n)"
   ]
  },
  {
   "cell_type": "code",
   "execution_count": 5,
   "metadata": {},
   "outputs": [
    {
     "name": "stdout",
     "output_type": "stream",
     "text": [
      "12.064206000085678 -4.551044458257961\n"
     ]
    }
   ],
   "source": [
    "[alpha, beta] = regressionLineaire(x, y)\n",
    "print(alpha, beta)"
   ]
  },
  {
   "cell_type": "code",
   "execution_count": 6,
   "metadata": {},
   "outputs": [
    {
     "data": {
      "image/png": "[encoded data removed]",
      "text/plain": [
       "<Figure size 288x288 with 1 Axes>"
      ]
     },
     "metadata": {
      "needs_background": "light"
     },
     "output_type": "display_data"
    }
   ],
   "source": [
    "fig = plt.figure(figsize = (4, 4))\n",
    "plt.plot(x, y, linestyle = 'none', Marker = 'o', ms = 4.0)\n",
    "tt = np.linspace(0, 1, 100)\n",
    "plt.plot(tt, beta + alpha*tt, linestyle = '-', lw = 1.0, color = 'red')\n",
    "ax = plt.gca()\n",
    "ax.set_xlim([0, 1])\n",
    "plt.title('Regression linéaire')\n",
    "plt.show()"
   ]
  },
  {
   "cell_type": "code",
   "execution_count": null,
   "metadata": {},
   "outputs": [],
   "source": []
  },
  {
   "cell_type": "code",
   "execution_count": 7,
   "metadata": {},
   "outputs": [],
   "source": [
    "# TD2 : exercice 3"
   ]
  },
  {
   "cell_type": "code",
   "execution_count": 8,
   "metadata": {},
   "outputs": [],
   "source": [
    "def regressionPolynomiale(x, y, k):\n",
    "    # x, y : vecteurs colonne donnant les points (xi,yi)\n",
    "    # k : ordre de la régression. Le polynôme optimal sera de \n",
    "    # degré au plus k\n",
    "    n = len(x)\n",
    "    M = np.zeros((n, k + 1))\n",
    "    # on cré la matrice M\n",
    "    for i in range(n):\n",
    "        for j in range(k + 1):\n",
    "            M[i, j] = x[i]**j\n",
    "    \n",
    "    return np.linalg.solve(np.dot(M.T, M), np.dot(M.T, y)) # on résout le système linéaire"
   ]
  },
  {
   "cell_type": "code",
   "execution_count": 9,
   "metadata": {},
   "outputs": [],
   "source": [
    "n = 100\n",
    "x = np.random.rand(n)\n",
    "y = -5 + 12*x + 3*x**2 + np.random.randn(n)"
   ]
  },
  {
   "cell_type": "code",
   "execution_count": 10,
   "metadata": {},
   "outputs": [
    {
     "name": "stdout",
     "output_type": "stream",
     "text": [
      "[-5.11779229 14.6091277  -4.05566742  4.81748948]\n"
     ]
    }
   ],
   "source": [
    "k = 3\n",
    "beta = regressionPolynomiale(x, y, k)\n",
    "print(beta)"
   ]
  },
  {
   "cell_type": "code",
   "execution_count": 11,
   "metadata": {},
   "outputs": [
    {
     "data": {
      "image/png": "[encoded data removed]",
      "text/plain": [
       "<Figure size 288x288 with 1 Axes>"
      ]
     },
     "metadata": {
      "needs_background": "light"
     },
     "output_type": "display_data"
    }
   ],
   "source": [
    "fig = plt.figure(figsize = (4, 4))\n",
    "plt.plot(x, y, linestyle = 'none', Marker = 'o', ms = 4.0)\n",
    "tt = np.linspace(0, 1, 100)\n",
    "plt.plot(tt, [np.dot(beta, [t**i for i in range(k + 1)]) for t in tt], linestyle = '-', lw = 1.0, color = 'red')\n",
    "ax = plt.gca()\n",
    "ax.set_xlim([0, 1])\n",
    "plt.title('Regression polynomiale')\n",
    "plt.show()"
   ]
  },
  {
   "cell_type": "code",
   "execution_count": null,
   "metadata": {},
   "outputs": [],
   "source": []
  },
  {
   "cell_type": "code",
   "execution_count": 12,
   "metadata": {},
   "outputs": [],
   "source": [
    "# TD2 : exercice 4"
   ]
  },
  {
   "cell_type": "code",
   "execution_count": null,
   "metadata": {},
   "outputs": [],
   "source": [
    "# 3)"
   ]
  },
  {
   "cell_type": "code",
   "execution_count": 13,
   "metadata": {},
   "outputs": [],
   "source": [
    "def dichotomie(f, a, b, epsilon):\n",
    "    # f fonction strictement monotone, a, b bornes de l'invertal de définition de f\n",
    "    # renvoie l'approximation à epsilon près de l'unique 0 de f sur [a, b]\n",
    "    c = (a + b)/2\n",
    "    sfa, fc = np.sign(f(a)), f(c)\n",
    "    c_list = []\n",
    "    # epsilon = 1e-10\n",
    "    n = 0\n",
    "    while abs(fc) > epsilon and n < 50:\n",
    "        if np.sign(fc) == sfa:\n",
    "            a = c\n",
    "        else:\n",
    "            b = c\n",
    "        c = (a + b)/2\n",
    "        fc = f(c)\n",
    "        c_list.append(c)\n",
    "        n += 1\n",
    "    \n",
    "    return c, c_list    "
   ]
  },
  {
   "cell_type": "code",
   "execution_count": null,
   "metadata": {},
   "outputs": [],
   "source": [
    "# 5)"
   ]
  },
  {
   "cell_type": "code",
   "execution_count": 14,
   "metadata": {},
   "outputs": [],
   "source": [
    "def f(x):\n",
    "    return x**3-2"
   ]
  },
  {
   "cell_type": "code",
   "execution_count": 33,
   "metadata": {
    "scrolled": true
   },
   "outputs": [
    {
     "name": "stdout",
     "output_type": "stream",
     "text": [
      "1.2599220275878906\n",
      "On est censé obtenir 2^1/3:  1.2599210498948732\n"
     ]
    }
   ],
   "source": [
    "c, c_list = dichotomie(f, 0, 2, 1e-5)\n",
    "print(c)\n",
    "print('On est censé obtenir 2^1/3: ', 2**(1/3))"
   ]
  },
  {
   "cell_type": "code",
   "execution_count": 16,
   "metadata": {},
   "outputs": [
    {
     "data": {
      "image/png": "[encoded data removed]",
      "text/plain": [
       "<Figure size 360x216 with 1 Axes>"
      ]
     },
     "metadata": {
      "needs_background": "light"
     },
     "output_type": "display_data"
    }
   ],
   "source": [
    "fig = plt.figure(figsize = (5, 3))\n",
    "plt.semilogy([abs(c_list[i] - c) for i in range(len(c_list)-1)]) # on représente l'erreur entre chaque itéré et la\n",
    "# valeur limite obtenue via la fonction semilogy qui met l'axe des ordonnées en échelle log.\n",
    "plt.title('Convergence de la méthode de dichotomie')\n",
    "plt.show()"
   ]
  },
  {
   "cell_type": "markdown",
   "metadata": {},
   "source": [
    "On remarque que l'on obtient typiquement une droite, ce qui signifie que $\\ln(e) = -p n + C$ où $e$ est l'erreur. Donc $e = C'\\exp(-p)^n$, c'est-à-dire la convergence est linéaire (on a bien $\\|c_{k+1} - c\\|\\leq exp(-p) \\|c_{k} - c\\|$ pour tout k)."
   ]
  },
  {
   "cell_type": "code",
   "execution_count": 17,
   "metadata": {},
   "outputs": [
    {
     "name": "stdout",
     "output_type": "stream",
     "text": [
      "La pente est censée être  -0.30102999566398114\n"
     ]
    }
   ],
   "source": [
    "print('La pente est censée être ', -np.log(2)/np.log(10)) # log10(1/2), par définition de la méthode de dichotomie"
   ]
  },
  {
   "cell_type": "code",
   "execution_count": 18,
   "metadata": {},
   "outputs": [
    {
     "name": "stdout",
     "output_type": "stream",
     "text": [
      "On trouve par regression linéaire  -0.2962363115216606\n"
     ]
    }
   ],
   "source": [
    "[alpha, beta] = regressionLineaire([i for i in range(len(c_list)-1)], np.log10([abs(c_list[i] - c) for i in range(len(c_list)-1)]))\n",
    "print('On trouve par regression linéaire ', alpha)"
   ]
  },
  {
   "cell_type": "markdown",
   "metadata": {},
   "source": [
    "On retrouve donc la pente théorique."
   ]
  },
  {
   "cell_type": "code",
   "execution_count": null,
   "metadata": {},
   "outputs": [],
   "source": [
    "# 6) et 7)"
   ]
  },
  {
   "cell_type": "code",
   "execution_count": 19,
   "metadata": {},
   "outputs": [],
   "source": [
    "def diffFinieDroite(f):\n",
    "    # renvoie une fonction qui approxime la dérivée par formule des différences finies à droite.\n",
    "    epsilon = 1e-8\n",
    "    def df(x):\n",
    "        return (f(x + epsilon) - f(x))/epsilon\n",
    "    return df"
   ]
  },
  {
   "cell_type": "code",
   "execution_count": 20,
   "metadata": {},
   "outputs": [],
   "source": [
    "def g(x):\n",
    "    return x**2 + 5*(1 - np.cos(2*np.pi*x))"
   ]
  },
  {
   "cell_type": "code",
   "execution_count": 21,
   "metadata": {},
   "outputs": [],
   "source": [
    "dg_approx = diffFinieDroite(g) # fonction approximant la dérivée de f"
   ]
  },
  {
   "cell_type": "code",
   "execution_count": 22,
   "metadata": {},
   "outputs": [
    {
     "data": {
      "image/png": "[encoded data removed]",
      "text/plain": [
       "<Figure size 288x288 with 1 Axes>"
      ]
     },
     "metadata": {
      "needs_background": "light"
     },
     "output_type": "display_data"
    }
   ],
   "source": [
    "tt = np.linspace(.5, 2.5, 200)\n",
    "fig = plt.figure(figsize = (4, 4))\n",
    "plt.plot(tt, [g(t) for t in tt], linestyle = '-', lw = 1.0)\n",
    "plt.title('Graphe de la fonction g')\n",
    "plt.show()"
   ]
  },
  {
   "cell_type": "markdown",
   "metadata": {},
   "source": [
    "On voit que l'on a deux minima locaux à trouver par la méthode de dichotomie codée."
   ]
  },
  {
   "cell_type": "code",
   "execution_count": 23,
   "metadata": {},
   "outputs": [
    {
     "name": "stdout",
     "output_type": "stream",
     "text": [
      "Premier minimum local :  0.9899629592895509\n"
     ]
    }
   ],
   "source": [
    "c, c_list = dichotomie(dg_approx, .6, 1.4, 1e-5)\n",
    "print('Premier minimum local : ', c)"
   ]
  },
  {
   "cell_type": "code",
   "execution_count": 24,
   "metadata": {},
   "outputs": [
    {
     "name": "stdout",
     "output_type": "stream",
     "text": [
      "Deuxième minimum local :  1.979886054992676\n"
     ]
    }
   ],
   "source": [
    "c, c_list = dichotomie(dg_approx, 1.6, 2.4, 1e-5)\n",
    "print('Deuxième minimum local : ', c)"
   ]
  },
  {
   "cell_type": "code",
   "execution_count": null,
   "metadata": {},
   "outputs": [],
   "source": [
    "# 8)"
   ]
  },
  {
   "cell_type": "code",
   "execution_count": 25,
   "metadata": {},
   "outputs": [],
   "source": [
    "def dg(x):\n",
    "    # expression litérale de g'\n",
    "    return 2*x + 10*np.pi*np.sin(2*np.pi*x)"
   ]
  },
  {
   "cell_type": "code",
   "execution_count": 26,
   "metadata": {},
   "outputs": [],
   "source": [
    "c, c_list = dichotomie(dg, .6, 1.4, 1e-14) # on calcule la valeur très précise d'un min local pour illustrer la cv."
   ]
  },
  {
   "cell_type": "code",
   "execution_count": 27,
   "metadata": {},
   "outputs": [],
   "source": [
    "c1, c1_list = dichotomie(dg_approx, .6, 1.4, 1e-10)\n",
    "c2, c2_list = dichotomie(dg, .6, 1.4, 1e-10)"
   ]
  },
  {
   "cell_type": "code",
   "execution_count": 30,
   "metadata": {},
   "outputs": [
    {
     "data": {
      "image/png": "[encoded data removed]",
      "text/plain": [
       "<Figure size 432x288 with 1 Axes>"
      ]
     },
     "metadata": {
      "needs_background": "light"
     },
     "output_type": "display_data"
    }
   ],
   "source": [
    "fig = plt.figure(figsize = (6, 4))\n",
    "plt.semilogy([abs(c1_list[i] - c) for i in range(len(c1_list)-1)], label = 'Dérivée approchée')\n",
    "plt.semilogy([abs(c2_list[i] - c) for i in range(len(c2_list)-1)], label = 'Dérivée exacte')\n",
    "plt.title('Comparaisons de convergence')\n",
    "plt.legend()\n",
    "plt.show()"
   ]
  },
  {
   "cell_type": "markdown",
   "metadata": {},
   "source": [
    "A partir d'un certain rang, on a un décrochage de la décroissance de l'erreur lorsque l'on approxime la dérivée par différences finies. On pourrait montrer que l'erreur commise sur la dérivée est typiquement de l'ordre de $10^{-8}$ vu le choix de $\\varepsilon = 10^{-8}$. Donc il n'est pas possible de localiser le minimum plus précisemment que typiquement $10^{-8}$. D'où l'erreur qui stagne."
   ]
  },
  {
   "cell_type": "code",
   "execution_count": null,
   "metadata": {},
   "outputs": [],
   "source": []
  }
 ],
 "metadata": {
  "@webio": {
   "lastCommId": null,
   "lastKernelId": null
  },
  "kernelspec": {
   "display_name": "Python 3",
   "language": "python",
   "name": "python3"
  },
  "language_info": {
   "codemirror_mode": {
    "name": "ipython",
    "version": 3
   },
   "file_extension": ".py",
   "mimetype": "text/x-python",
   "name": "python",
   "nbconvert_exporter": "python",
   "pygments_lexer": "ipython3",
   "version": "3.7.4"
  }
 },
 "nbformat": 4,
 "nbformat_minor": 2
}
