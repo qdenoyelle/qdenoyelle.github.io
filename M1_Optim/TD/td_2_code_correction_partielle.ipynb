{
 "cells": [
  {
   "cell_type": "code",
   "execution_count": 1,
   "metadata": {},
   "outputs": [],
   "source": [
    "import numpy as np\n",
    "import matplotlib.pyplot as plt"
   ]
  },
  {
   "cell_type": "code",
   "execution_count": 2,
   "metadata": {},
   "outputs": [],
   "source": [
    "# TD2 : exercice 2"
   ]
  },
  {
   "cell_type": "code",
   "execution_count": 3,
   "metadata": {},
   "outputs": [],
   "source": [
    "def regressionLineaire(x, y):\n",
    "    n = len(x)\n",
    "    sx, sy, sxy, sx2 = sum(x), sum(y), np.dot(x, y), np.dot(x, x)\n",
    "    alpha = (sxy - sx*sy/n)/(sx2 - sx**2/n)\n",
    "    beta = sy/n - alpha*sx/n\n",
    "    return np.array([alpha, beta])"
   ]
  },
  {
   "cell_type": "code",
   "execution_count": 4,
   "metadata": {},
   "outputs": [],
   "source": [
    "n = 100\n",
    "x = np.random.rand(n)\n",
    "y = -5 + 12*x + np.random.rand(n)"
   ]
  },
  {
   "cell_type": "code",
   "execution_count": 5,
   "metadata": {},
   "outputs": [
    {
     "name": "stdout",
     "output_type": "stream",
     "text": [
      "12.064206000085678 -4.551044458257961\n"
     ]
    }
   ],
   "source": [
    "[alpha, beta] = regressionLineaire(x, y)\n",
    "print(alpha, beta)"
   ]
  },
  {
   "cell_type": "code",
   "execution_count": 6,
   "metadata": {},
   "outputs": [
    {
     "data": {
      "image/png": "[encoded data removed]",
      "text/plain": [
       "<Figure size 288x288 with 1 Axes>"
      ]
     },
     "metadata": {
      "needs_background": "light"
     },
     "output_type": "display_data"
    }
   ],
   "source": [
    "fig = plt.figure(figsize = (4, 4))\n",
    "plt.plot(x, y, linestyle = 'none', Marker = 'o', ms = 4.0)\n",
    "tt = np.linspace(0, 1, 100)\n",
    "plt.plot(tt, beta + alpha*tt, linestyle = '-', lw = 1.0, color = 'red')\n",
    "ax = plt.gca()\n",
    "ax.set_xlim([0, 1])\n",
    "plt.title('Regression linéaire')\n",
    "plt.show()"
   ]
  },
  {
   "cell_type": "code",
   "execution_count": null,
   "metadata": {},
   "outputs": [],
   "source": []
  },
  {
   "cell_type": "code",
   "execution_count": null,
   "metadata": {},
   "outputs": [],
   "source": []
  }
 ],
 "metadata": {
  "@webio": {
   "lastCommId": null,
   "lastKernelId": null
  },
  "kernelspec": {
   "display_name": "Python 3",
   "language": "python",
   "name": "python3"
  },
  "language_info": {
   "codemirror_mode": {
    "name": "ipython",
    "version": 3
   },
   "file_extension": ".py",
   "mimetype": "text/x-python",
   "name": "python",
   "nbconvert_exporter": "python",
   "pygments_lexer": "ipython3",
   "version": "3.7.4"
  }
 },
 "nbformat": 4,
 "nbformat_minor": 2
}
